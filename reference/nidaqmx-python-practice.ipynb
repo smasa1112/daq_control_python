{
 "cells": [
  {
   "cell_type": "markdown",
   "metadata": {},
   "source": [
    "### nidaqmx-pythonの練習\n",
    "\n",
    "- 2021/10現在研究室では公式以外の方の出したPyDAQmxを使用していた\n",
    "    - そのせいかわからないがDAQによって複数チャネルの計測ができなそう（スレッドなど複雑な処理が必要そう）だと分かった\n",
    "    - そのため公式への乗り換え及び公式ライブラリを用いた刺激プログラムを作成するためにこのnoteでは様々なことを試してみる\n",
    "    - 役に立ちそうなドキュメント  \n",
    "    https://nspyre.readthedocs.io/en/latest/guides/ni-daqmx.html  \n",
    "    https://github.com/ni/nidaqmx-python  \n",
    "    https://nidaqmx-python.readthedocs.io/en/latest/task.html  "
   ]
  },
  {
   "cell_type": "code",
   "execution_count": 2,
   "metadata": {},
   "outputs": [],
   "source": [
    "#ライブラリの読み込み\n",
    "import nidaqmx\n",
    "import numpy as np\n",
    "import time\n",
    "from nidaqmx import stream_writers"
   ]
  },
  {
   "cell_type": "code",
   "execution_count": 3,
   "metadata": {},
   "outputs": [
    {
     "data": {
      "text/plain": [
       "DriverVersion(major_version=19, minor_version=5, update_version=0)"
      ]
     },
     "execution_count": 3,
     "metadata": {},
     "output_type": "execute_result"
    }
   ],
   "source": [
    "system=nidaqmx.system.System.local()\n",
    "#現在のドライババージョンを出力\n",
    "system.driver_version"
   ]
  },
  {
   "cell_type": "code",
   "execution_count": 4,
   "metadata": {},
   "outputs": [
    {
     "name": "stdout",
     "output_type": "stream",
     "text": [
      "Device(name=Dev1)\n"
     ]
    }
   ],
   "source": [
    "for device in system.devices:\n",
    "    print(device)"
   ]
  },
  {
   "cell_type": "code",
   "execution_count": 5,
   "metadata": {},
   "outputs": [
    {
     "data": {
      "text/plain": [
       "True"
      ]
     },
     "execution_count": 5,
     "metadata": {},
     "output_type": "execute_result"
    }
   ],
   "source": [
    "import collections\n",
    "isinstance(system.devices,collections.Sequence)"
   ]
  },
  {
   "cell_type": "code",
   "execution_count": 6,
   "metadata": {},
   "outputs": [
    {
     "ename": "NameError",
     "evalue": "name 'task' is not defined",
     "output_type": "error",
     "traceback": [
      "\u001b[1;31m---------------------------------------------------------------------------\u001b[0m",
      "\u001b[1;31mNameError\u001b[0m                                 Traceback (most recent call last)",
      "\u001b[1;32m<ipython-input-6-ddb9c59d7e46>\u001b[0m in \u001b[0;36m<module>\u001b[1;34m\u001b[0m\n\u001b[0;32m      1\u001b[0m \u001b[1;31m#緊急用Task終了用コード\u001b[0m\u001b[1;33m\u001b[0m\u001b[1;33m\u001b[0m\u001b[1;33m\u001b[0m\u001b[0m\n\u001b[1;32m----> 2\u001b[1;33m \u001b[0mtask\u001b[0m\u001b[1;33m.\u001b[0m\u001b[0mclose\u001b[0m\u001b[1;33m(\u001b[0m\u001b[1;33m)\u001b[0m\u001b[1;33m\u001b[0m\u001b[1;33m\u001b[0m\u001b[0m\n\u001b[0m",
      "\u001b[1;31mNameError\u001b[0m: name 'task' is not defined"
     ]
    }
   ],
   "source": [
    "#緊急用Task終了用コード\n",
    "task.close()"
   ]
  },
  {
   "cell_type": "code",
   "execution_count": 42,
   "metadata": {},
   "outputs": [
    {
     "name": "stdout",
     "output_type": "stream",
     "text": [
      "3\n"
     ]
    }
   ],
   "source": [
    "task=nidaqmx.Task()\n",
    "task.ai_channels.add_ai_voltage_chan('Dev1/ai0:2')\n",
    "data=task.read()\n",
    "print(len(data))"
   ]
  },
  {
   "cell_type": "code",
   "execution_count": 5,
   "metadata": {},
   "outputs": [],
   "source": [
    "#容易に複数チャンネルの取得ができることが分かったので\n",
    "#タイミングを同期させて取得できることができるか試してみる\n",
    "task=nidaqmx.Task()\n",
    "#triggerのdataをai1,soundのdataをai0に入力\n",
    "task.ai_channels.add_ai_voltage_chan('Dev1/ai0:1')\n",
    "task.timing.cfg_samp_clk_timing(1000)\n"
   ]
  },
  {
   "cell_type": "code",
   "execution_count": 6,
   "metadata": {},
   "outputs": [
    {
     "name": "stdout",
     "output_type": "stream",
     "text": [
      "Every N Samples callback invoked.\n",
      "Every N Samples callback invoked.\n",
      "Every N Samples callback invoked.\n",
      "Every N Samples callback invoked.\n",
      "Every N Samples callback invoked.\n",
      "Running task. Press Enter to stop and see number of accumulated samples.\n",
      "\n"
     ]
    },
    {
     "data": {
      "text/plain": [
       "''"
      ]
     },
     "execution_count": 6,
     "metadata": {},
     "output_type": "execute_result"
    }
   ],
   "source": [
    "# Python 2.X does not have nonlocal keyword.\n",
    "non_local_var = {'samples': []}\n",
    "\n",
    "def callback(task_handle, every_n_samples_event_type,\n",
    "             number_of_samples, callback_data):\n",
    "    print('Every N Samples callback invoked.')\n",
    "\n",
    "    samples = task.read(number_of_samples_per_channel=200)\n",
    "    non_local_var['samples'].extend(samples)\n",
    "\n",
    "    return 0\n",
    "\n",
    "task.register_every_n_samples_acquired_into_buffer_event(\n",
    "    200, callback)\n",
    "\n",
    "task.start()\n",
    "\n",
    "input('Running task. Press Enter to stop and see number of '\n",
    "      'accumulated samples.\\n')\n"
   ]
  },
  {
   "cell_type": "code",
   "execution_count": 7,
   "metadata": {},
   "outputs": [
    {
     "name": "stdout",
     "output_type": "stream",
     "text": [
      "200\n"
     ]
    }
   ],
   "source": [
    "print(len(non_local_var['samples'][0]))"
   ]
  },
  {
   "cell_type": "code",
   "execution_count": 51,
   "metadata": {},
   "outputs": [
    {
     "name": "stderr",
     "output_type": "stream",
     "text": [
      "C:\\Users\\student\\anaconda3\\lib\\site-packages\\nidaqmx\\task.py:461: ResourceWarning: Attempted to close NI-DAQmx task of name \"_unnamedTask<1A>\" but task was already closed.\n",
      "  warnings.warn(\n"
     ]
    }
   ],
   "source": [
    "#緊急用Task終了用コード\n",
    "task.close()\n"
   ]
  },
  {
   "cell_type": "code",
   "execution_count": 52,
   "metadata": {},
   "outputs": [
    {
     "name": "stdout",
     "output_type": "stream",
     "text": [
      "2\n"
     ]
    }
   ],
   "source": [
    "#複数チャンネルの電圧を同時計測するコード\n",
    "task=nidaqmx.Task()\n",
    "task.ai_channels.add_ai_voltage_chan('Dev1/ai0:1')\n",
    "task.timing.cfg_samp_clk_timing(rate=20000,samps_per_chan=40000)\n",
    "data=task.read(number_of_samples_per_channel=40000)\n",
    "print(len(data))\n",
    "task.close()\n"
   ]
  },
  {
   "cell_type": "code",
   "execution_count": 12,
   "metadata": {},
   "outputs": [
    {
     "name": "stderr",
     "output_type": "stream",
     "text": [
      "C:\\Users\\student\\Anaconda3\\lib\\site-packages\\nidaqmx\\task.py:105: ResourceWarning: Task of name \"_unnamedTask<1>\" was not explicitly closed before it was destructed. Resources on the task device may still be reserved.\n",
      "  'reserved.'.format(self.name), DaqResourceWarning)\n"
     ]
    }
   ],
   "source": [
    "from matplotlib import pyplot as plt"
   ]
  },
  {
   "cell_type": "code",
   "execution_count": 54,
   "metadata": {},
   "outputs": [
    {
     "data": {
      "image/png": "[encoded data removed]",
      "text/plain": [
       "<Figure size 432x288 with 1 Axes>"
      ]
     },
     "metadata": {
      "needs_background": "light"
     },
     "output_type": "display_data"
    }
   ],
   "source": [
    "#triggerとsignalが計測できた\n",
    "#電圧値も設定とほぼ同じ値だった\n",
    "plt.plot(data[0])\n",
    "plt.plot(data[1])\n",
    "plt.show()"
   ]
  },
  {
   "cell_type": "markdown",
   "metadata": {},
   "source": [
    "- 次に読み書きが同時にできるか\n",
    "- input outputが同時にできないか試してみる\n",
    "- できない場合にはmultiThreadingで処理を同期化する？→舘野先生の話ではそんなのしなくてもできるっぽい？\n"
   ]
  },
  {
   "cell_type": "code",
   "execution_count": 6,
   "metadata": {},
   "outputs": [],
   "source": [
    "freq=2000\n",
    "voltage=2\n",
    "total_duration=2\n",
    "duration=0.03 #[s]\n",
    "samplerate=100000\n",
    "write_array=np.zeros(samplerate*total_duration)\n",
    "write_array[0:int(samplerate*duration)]=voltage*np.sin(2*np.pi*freq*np.arange(0,duration,1/(samplerate)))\n"
   ]
  },
  {
   "cell_type": "code",
   "execution_count": 7,
   "metadata": {},
   "outputs": [
    {
     "name": "stdout",
     "output_type": "stream",
     "text": [
      "[-1.46957616e-15  2.50666467e-01  4.97379774e-01  7.36249105e-01\n",
      "  9.63507348e-01  1.17557050e+00  1.36909421e+00  1.54102649e+00\n",
      "  1.68865585e+00  1.80965410e+00  1.90211303e+00  1.96457450e+00\n",
      "  1.99605346e+00  1.99605346e+00  1.96457450e+00  1.90211303e+00\n",
      "  1.80965410e+00  1.68865585e+00  1.54102649e+00  1.36909421e+00\n",
      "  1.17557050e+00  9.63507348e-01  7.36249105e-01  4.97379774e-01\n",
      "  2.50666467e-01  1.71450552e-15 -2.50666467e-01 -4.97379774e-01\n",
      " -7.36249105e-01 -9.63507348e-01 -1.17557050e+00 -1.36909421e+00\n",
      " -1.54102649e+00 -1.68865585e+00 -1.80965410e+00 -1.90211303e+00\n",
      " -1.96457450e+00 -1.99605346e+00 -1.99605346e+00 -1.96457450e+00\n",
      " -1.90211303e+00 -1.80965410e+00 -1.68865585e+00 -1.54102649e+00\n",
      " -1.36909421e+00 -1.17557050e+00 -9.63507348e-01 -7.36249105e-01\n",
      " -4.97379774e-01 -2.50666467e-01 -1.95943488e-15  2.50666467e-01\n",
      "  4.97379774e-01  7.36249105e-01  9.63507348e-01  1.17557050e+00\n",
      "  1.36909421e+00  1.54102649e+00  1.68865585e+00  1.80965410e+00\n",
      "  1.90211303e+00  1.96457450e+00  1.99605346e+00  1.99605346e+00\n",
      "  1.96457450e+00  1.90211303e+00  1.80965410e+00  1.68865585e+00\n",
      "  1.54102649e+00  1.36909421e+00  1.17557050e+00  9.63507348e-01\n",
      "  7.36249105e-01  4.97379774e-01  2.50666467e-01  2.20436424e-15\n",
      " -2.50666467e-01 -4.97379774e-01 -7.36249105e-01 -9.63507348e-01\n",
      " -1.17557050e+00 -1.36909421e+00 -1.54102649e+00 -1.68865585e+00\n",
      " -1.80965410e+00 -1.90211303e+00 -1.96457450e+00 -1.99605346e+00\n",
      " -1.99605346e+00 -1.96457450e+00 -1.90211303e+00 -1.80965410e+00\n",
      " -1.68865585e+00 -1.54102649e+00 -1.36909421e+00 -1.17557050e+00\n",
      " -9.63507348e-01 -7.36249105e-01 -4.97379774e-01 -2.50666467e-01]\n",
      "<class 'numpy.ndarray'>\n",
      "200000\n"
     ]
    }
   ],
   "source": [
    "print(write_array[int(samplerate*3/freq):int(samplerate*3/freq)+100])\n",
    "print(type(write_array))\n",
    "print(len(write_array))"
   ]
  },
  {
   "cell_type": "code",
   "execution_count": 23,
   "metadata": {},
   "outputs": [],
   "source": [
    "# リソースが確保できない→エラーが起きた状態のままになってしまうのが原因そうなので初期化するのが一番よさそう\n",
    "device=nidaqmx.system.device.Device(\"Dev1\")\n",
    "device.reset_device()"
   ]
  },
  {
   "cell_type": "code",
   "execution_count": 49,
   "metadata": {},
   "outputs": [],
   "source": [
    "#緊急用Task終了用コード\n",
    "\n",
    "task.stop()\n",
    "task.close()"
   ]
  },
  {
   "cell_type": "markdown",
   "metadata": {},
   "source": [
    "### 役立ちそうなドキュメント\n",
    "- https://www.ni.com/ja-jp/support/documentation/supplemental/06/timing-and-synchronization-features-of-ni-daqmx.html\n",
    "- https://www.ni.com/ja-jp/support/documentation/supplemental/06/learn-10-functions-in-ni-daqmx-and-handle-80-percent-of-your-dat.html"
   ]
  },
  {
   "cell_type": "code",
   "execution_count": 32,
   "metadata": {},
   "outputs": [
    {
     "name": "stdout",
     "output_type": "stream",
     "text": [
      "['Dev1/ao0']\n",
      "0\n",
      "200000\n"
     ]
    }
   ],
   "source": [
    "task=nidaqmx.Task()\n",
    "#出力用チャンネルの生成\n",
    "try:\n",
    "    task.ao_channels.add_ao_voltage_chan('Dev1/ao0')\n",
    "    #task.timing.cfg_samp_clk_timing(rate=samplerate,samps_per_chan=samplerate*total_duration)\n",
    "    task.timing.cfg_samp_clk_timing(rate=samplerate,sample_mode=nidaqmx.constants.AcquisitionType.CONTINUOUS,samps_per_chan=samplerate*total_duration)\n",
    "    print(task.channel_names)\n",
    "    # 配列をそのまま書き込みしようとすると書き込み用のメモリが足りないと記載される→メモリの確保用のコマンドがどこかであるはず？\n",
    "    # 単純にエラーが起きたあとにとまったことで起きたエラーだった\n",
    "    # タスクの書き込みが一部しかできていないのはなぜ?→可能性タスクの書き込みが終わる前に出力されちゃっている?\n",
    "    # タスク書き込み前に出力される場合にはどうすればいいんだろう→波形自体は指定したタイムスケール通りに出ている\n",
    "    # まずはバッファの指定を試す\n",
    "    print(task.out_stream.output_buf_size)\n",
    "    print(task.write(write_array))\n",
    "    #待つような関数を入れてみる？\n",
    "    task.start()\n",
    "    # channel_writerを使用してみる→だめだった\n",
    "    # SignalStreamer=nidaqmx.stream_writers()\n",
    "finally:\n",
    "    if task:   \n",
    "        task.stop()\n",
    "        task.close()\n",
    "        device=nidaqmx.system.device.Device(\"Dev1\")\n",
    "        device.reset_device()"
   ]
  },
  {
   "cell_type": "code",
   "execution_count": null,
   "metadata": {},
   "outputs": [],
   "source": []
  },
  {
   "cell_type": "code",
   "execution_count": 35,
   "metadata": {},
   "outputs": [
    {
     "name": "stdout",
     "output_type": "stream",
     "text": [
      "1 Channel N Samples Write: \n"
     ]
    },
    {
     "ename": "DaqError",
     "evalue": "The specified resource is reserved. The operation could not be completed as specified.\nTask Name: _unnamedTask<14>\n\nStatus Code: -50103",
     "output_type": "error",
     "traceback": [
      "\u001b[1;31m---------------------------------------------------------------------------\u001b[0m",
      "\u001b[1;31mDaqError\u001b[0m                                  Traceback (most recent call last)",
      "\u001b[1;32m<ipython-input-35-d72a4a8a6403>\u001b[0m in \u001b[0;36m<module>\u001b[1;34m\u001b[0m\n\u001b[0;32m      8\u001b[0m \u001b[1;33m\u001b[0m\u001b[0m\n\u001b[0;32m      9\u001b[0m     \u001b[0mprint\u001b[0m\u001b[1;33m(\u001b[0m\u001b[1;34m'1 Channel N Samples Write: '\u001b[0m\u001b[1;33m)\u001b[0m\u001b[1;33m\u001b[0m\u001b[1;33m\u001b[0m\u001b[0m\n\u001b[1;32m---> 10\u001b[1;33m     \u001b[0mprint\u001b[0m\u001b[1;33m(\u001b[0m\u001b[0mtask\u001b[0m\u001b[1;33m.\u001b[0m\u001b[0mwrite\u001b[0m\u001b[1;33m(\u001b[0m\u001b[1;33m[\u001b[0m\u001b[1;36m1.1\u001b[0m\u001b[1;33m,\u001b[0m \u001b[1;36m2.2\u001b[0m\u001b[1;33m,\u001b[0m \u001b[1;36m3.3\u001b[0m\u001b[1;33m,\u001b[0m \u001b[1;36m4.4\u001b[0m\u001b[1;33m,\u001b[0m \u001b[1;36m5.5\u001b[0m\u001b[1;33m]\u001b[0m\u001b[1;33m,\u001b[0m \u001b[0mauto_start\u001b[0m\u001b[1;33m=\u001b[0m\u001b[1;32mTrue\u001b[0m\u001b[1;33m)\u001b[0m\u001b[1;33m)\u001b[0m\u001b[1;33m\u001b[0m\u001b[1;33m\u001b[0m\u001b[0m\n\u001b[0m\u001b[0;32m     11\u001b[0m     \u001b[0mtask\u001b[0m\u001b[1;33m.\u001b[0m\u001b[0mstop\u001b[0m\u001b[1;33m(\u001b[0m\u001b[1;33m)\u001b[0m\u001b[1;33m\u001b[0m\u001b[1;33m\u001b[0m\u001b[0m\n\u001b[0;32m     12\u001b[0m \u001b[1;33m\u001b[0m\u001b[0m\n",
      "\u001b[1;32m~\\anaconda3\\lib\\site-packages\\nidaqmx\\task.py\u001b[0m in \u001b[0;36mwrite\u001b[1;34m(self, data, auto_start, timeout)\u001b[0m\n\u001b[0;32m   1231\u001b[0m         \u001b[1;32mif\u001b[0m \u001b[0mwrite_chan_type\u001b[0m \u001b[1;33m==\u001b[0m \u001b[0mChannelType\u001b[0m\u001b[1;33m.\u001b[0m\u001b[0mANALOG_OUTPUT\u001b[0m\u001b[1;33m:\u001b[0m\u001b[1;33m\u001b[0m\u001b[1;33m\u001b[0m\u001b[0m\n\u001b[0;32m   1232\u001b[0m             \u001b[0mdata\u001b[0m \u001b[1;33m=\u001b[0m \u001b[0mnumpy\u001b[0m\u001b[1;33m.\u001b[0m\u001b[0masarray\u001b[0m\u001b[1;33m(\u001b[0m\u001b[0mdata\u001b[0m\u001b[1;33m,\u001b[0m \u001b[0mdtype\u001b[0m\u001b[1;33m=\u001b[0m\u001b[0mnumpy\u001b[0m\u001b[1;33m.\u001b[0m\u001b[0mfloat64\u001b[0m\u001b[1;33m)\u001b[0m\u001b[1;33m\u001b[0m\u001b[1;33m\u001b[0m\u001b[0m\n\u001b[1;32m-> 1233\u001b[1;33m             return _write_analog_f_64(\n\u001b[0m\u001b[0;32m   1234\u001b[0m                 \u001b[0mself\u001b[0m\u001b[1;33m.\u001b[0m\u001b[0m_handle\u001b[0m\u001b[1;33m,\u001b[0m \u001b[0mdata\u001b[0m\u001b[1;33m,\u001b[0m \u001b[0mnumber_of_samples_per_channel\u001b[0m\u001b[1;33m,\u001b[0m \u001b[0mauto_start\u001b[0m\u001b[1;33m,\u001b[0m\u001b[1;33m\u001b[0m\u001b[1;33m\u001b[0m\u001b[0m\n\u001b[0;32m   1235\u001b[0m                 timeout)\n",
      "\u001b[1;32m~\\anaconda3\\lib\\site-packages\\nidaqmx\\_task_modules\\write_functions.py\u001b[0m in \u001b[0;36m_write_analog_f_64\u001b[1;34m(task_handle, write_array, num_samps_per_chan, auto_start, timeout, data_layout)\u001b[0m\n\u001b[0;32m     30\u001b[0m         \u001b[0mdata_layout\u001b[0m\u001b[1;33m.\u001b[0m\u001b[0mvalue\u001b[0m\u001b[1;33m,\u001b[0m \u001b[0mwrite_array\u001b[0m\u001b[1;33m,\u001b[0m\u001b[1;33m\u001b[0m\u001b[1;33m\u001b[0m\u001b[0m\n\u001b[0;32m     31\u001b[0m         ctypes.byref(samps_per_chan_written), None)\n\u001b[1;32m---> 32\u001b[1;33m     \u001b[0mcheck_for_error\u001b[0m\u001b[1;33m(\u001b[0m\u001b[0merror_code\u001b[0m\u001b[1;33m)\u001b[0m\u001b[1;33m\u001b[0m\u001b[1;33m\u001b[0m\u001b[0m\n\u001b[0m\u001b[0;32m     33\u001b[0m \u001b[1;33m\u001b[0m\u001b[0m\n\u001b[0;32m     34\u001b[0m     \u001b[1;32mreturn\u001b[0m \u001b[0msamps_per_chan_written\u001b[0m\u001b[1;33m.\u001b[0m\u001b[0mvalue\u001b[0m\u001b[1;33m\u001b[0m\u001b[1;33m\u001b[0m\u001b[0m\n",
      "\u001b[1;32m~\\anaconda3\\lib\\site-packages\\nidaqmx\\errors.py\u001b[0m in \u001b[0;36mcheck_for_error\u001b[1;34m(error_code)\u001b[0m\n\u001b[0;32m    125\u001b[0m         \u001b[0mcfunc\u001b[0m\u001b[1;33m(\u001b[0m\u001b[0merror_buffer\u001b[0m\u001b[1;33m,\u001b[0m \u001b[1;36m2048\u001b[0m\u001b[1;33m)\u001b[0m\u001b[1;33m\u001b[0m\u001b[1;33m\u001b[0m\u001b[0m\n\u001b[0;32m    126\u001b[0m \u001b[1;33m\u001b[0m\u001b[0m\n\u001b[1;32m--> 127\u001b[1;33m         \u001b[1;32mraise\u001b[0m \u001b[0mDaqError\u001b[0m\u001b[1;33m(\u001b[0m\u001b[0merror_buffer\u001b[0m\u001b[1;33m.\u001b[0m\u001b[0mvalue\u001b[0m\u001b[1;33m.\u001b[0m\u001b[0mdecode\u001b[0m\u001b[1;33m(\u001b[0m\u001b[1;34m\"utf-8\"\u001b[0m\u001b[1;33m)\u001b[0m\u001b[1;33m,\u001b[0m \u001b[0merror_code\u001b[0m\u001b[1;33m)\u001b[0m\u001b[1;33m\u001b[0m\u001b[1;33m\u001b[0m\u001b[0m\n\u001b[0m\u001b[0;32m    128\u001b[0m \u001b[1;33m\u001b[0m\u001b[0m\n\u001b[0;32m    129\u001b[0m     \u001b[1;32melif\u001b[0m \u001b[0merror_code\u001b[0m \u001b[1;33m>\u001b[0m \u001b[1;36m0\u001b[0m\u001b[1;33m:\u001b[0m\u001b[1;33m\u001b[0m\u001b[1;33m\u001b[0m\u001b[0m\n",
      "\u001b[1;31mDaqError\u001b[0m: The specified resource is reserved. The operation could not be completed as specified.\nTask Name: _unnamedTask<14>\n\nStatus Code: -50103"
     ]
    }
   ],
   "source": [
    "import nidaqmx\n",
    "\n",
    "\n",
    "with nidaqmx.Task() as task:\n",
    "    task.ao_channels.add_ao_voltage_chan('Dev1/ao0')\n",
    "\n",
    "    task.timing.cfg_samp_clk_timing(rate=1000,sample_mode=nidaqmx.constants.AcquisitionType.CONTINUOUS,samps_per_chan=5)\n",
    "\n",
    "    print('1 Channel N Samples Write: ')\n",
    "    print(task.write([1.1, 2.2, 3.3, 4.4, 5.5], auto_start=True))\n",
    "    task.stop()\n",
    "    "
   ]
  },
  {
   "cell_type": "code",
   "execution_count": 22,
   "metadata": {},
   "outputs": [],
   "source": [
    "from nidaqmx import stream_writers"
   ]
  },
  {
   "cell_type": "code",
   "execution_count": 75,
   "metadata": {},
   "outputs": [],
   "source": [
    "#緊急用Task終了用コード\n",
    "\n",
    "task.stop()\n",
    "task.close()"
   ]
  },
  {
   "cell_type": "code",
   "execution_count": 19,
   "metadata": {},
   "outputs": [],
   "source": [
    "# リソースが確保できない→エラーが起きた状態のままになってしまうのが原因そうなので初期化するのが一番よさそう\n",
    "device=nidaqmx.system.device.Device(\"Dev1\")\n",
    "device.reset_device()"
   ]
  },
  {
   "cell_type": "code",
   "execution_count": 79,
   "metadata": {},
   "outputs": [],
   "source": [
    "task=nidaqmx.Task()\n",
    "#出力用チャンネルの生成\n",
    "task.ao_channels.add_ao_voltage_chan('Dev1/ao0')\n",
    "#task.timing.cfg_samp_clk_timing(rate=samplerate,samps_per_chan=samplerate*total_duration)\n",
    "#バッファ上に波形を書き込む際に書き込み用のクラスをtaskのout_streamと結び付けてあげることが重要\n",
    "analog_writer= stream_writers.AnalogSingleChannelWriter(task.out_stream)"
   ]
  },
  {
   "cell_type": "code",
   "execution_count": 69,
   "metadata": {},
   "outputs": [
    {
     "data": {
      "text/plain": [
       "200000"
      ]
     },
     "execution_count": 69,
     "metadata": {},
     "output_type": "execute_result"
    }
   ],
   "source": [
    "#analog_writerを使用して書き込みを行う\n",
    "task.timing.cfg_samp_clk_timing(rate=samplerate,samps_per_chan=samplerate*(total_duration+1))\n",
    "#writeする際にバッファサイズが足りないというエラーが出た→バッファサイズ指定の関数が必要なのかな？\n",
    "analog_writer.write_many_sample(write_array)"
   ]
  },
  {
   "cell_type": "code",
   "execution_count": 70,
   "metadata": {},
   "outputs": [],
   "source": [
    "task.start()"
   ]
  },
  {
   "cell_type": "code",
   "execution_count": 71,
   "metadata": {},
   "outputs": [],
   "source": [
    "task.stop()"
   ]
  },
  {
   "cell_type": "code",
   "execution_count": 82,
   "metadata": {},
   "outputs": [],
   "source": [
    "#波形の書き込みができた\n",
    "task=nidaqmx.Task()\n",
    "#出力用チャンネルの生成\n",
    "task.ao_channels.add_ao_voltage_chan('Dev1/ao0')\n",
    "#task.timing.cfg_samp_clk_timing(rate=samplerate,samps_per_chan=samplerate*total_duration)\n",
    "#バッファ上に波形を書き込む際に書き込み用のクラスをtaskのout_streamと結び付けてあげることが重要\n",
    "analog_writer= stream_writers.AnalogSingleChannelWriter(task.out_stream)\n",
    "#analog_writerを使用して書き込みを行う\n",
    "task.timing.cfg_samp_clk_timing(rate=samplerate,samps_per_chan=samplerate*(total_duration))\n",
    "#writeする際にバッファサイズが足りないというエラーが出た→バッファサイズ指定の関数が必要なのかな？→単に前のtaskが残っていただけ\n",
    "analog_writer.write_many_sample(write_array)\n",
    "task.start()\n",
    "#すぐに止めると電圧値が変な値で止まるため待機させる\n",
    "task.wait_until_done()\n",
    "task.stop()"
   ]
  },
  {
   "cell_type": "code",
   "execution_count": 14,
   "metadata": {},
   "outputs": [
    {
     "ename": "DaqError",
     "evalue": "Task cannot contain a channel with the specified channel type, because the task already contains channels with a different channel type.\nCreate one task for each channel type.\nVirtual Channel Name: Dev1/ao0\nI/O Type Required for Virtual Channel: DAQmx_Val_AO\nPhysical Channel Name: Dev1/ai0\nI/O Type Required for Virtual Channel: DAQmx_Val_AI\n\nTask Name: _unnamedTask<1>\n\nStatus Code: -200559",
     "output_type": "error",
     "traceback": [
      "\u001b[1;31m---------------------------------------------------------------------------\u001b[0m",
      "\u001b[1;31mDaqError\u001b[0m                                  Traceback (most recent call last)",
      "\u001b[1;32m<ipython-input-14-d51e777d8b3c>\u001b[0m in \u001b[0;36m<module>\u001b[1;34m\u001b[0m\n\u001b[0;32m      7\u001b[0m \u001b[0mtask\u001b[0m\u001b[1;33m.\u001b[0m\u001b[0mao_channels\u001b[0m\u001b[1;33m.\u001b[0m\u001b[0madd_ao_voltage_chan\u001b[0m\u001b[1;33m(\u001b[0m\u001b[1;34m'Dev1/ao0'\u001b[0m\u001b[1;33m)\u001b[0m\u001b[1;33m\u001b[0m\u001b[1;33m\u001b[0m\u001b[0m\n\u001b[0;32m      8\u001b[0m \u001b[1;31m#入力用チャンネルの生成\u001b[0m\u001b[1;33m\u001b[0m\u001b[1;33m\u001b[0m\u001b[1;33m\u001b[0m\u001b[0m\n\u001b[1;32m----> 9\u001b[1;33m \u001b[0mtask\u001b[0m\u001b[1;33m.\u001b[0m\u001b[0mai_channels\u001b[0m\u001b[1;33m.\u001b[0m\u001b[0madd_ai_voltage_chan\u001b[0m\u001b[1;33m(\u001b[0m\u001b[1;34m'Dev1/ai0'\u001b[0m\u001b[1;33m)\u001b[0m\u001b[1;33m\u001b[0m\u001b[1;33m\u001b[0m\u001b[0m\n\u001b[0m\u001b[0;32m     10\u001b[0m \u001b[1;31m#サンプリングレートの設定\u001b[0m\u001b[1;33m\u001b[0m\u001b[1;33m\u001b[0m\u001b[1;33m\u001b[0m\u001b[0m\n\u001b[0;32m     11\u001b[0m \u001b[0mtask\u001b[0m\u001b[1;33m.\u001b[0m\u001b[0mtiming\u001b[0m\u001b[1;33m.\u001b[0m\u001b[0mcfg_samp_clk_timing\u001b[0m\u001b[1;33m(\u001b[0m\u001b[0mrate\u001b[0m\u001b[1;33m=\u001b[0m\u001b[0msamplerate\u001b[0m\u001b[1;33m,\u001b[0m\u001b[0msamps_per_chan\u001b[0m\u001b[1;33m=\u001b[0m\u001b[0msamplerate\u001b[0m\u001b[1;33m*\u001b[0m\u001b[1;33m(\u001b[0m\u001b[0mtotal_duration\u001b[0m\u001b[1;33m)\u001b[0m\u001b[1;33m)\u001b[0m\u001b[1;33m\u001b[0m\u001b[1;33m\u001b[0m\u001b[0m\n",
      "\u001b[1;32m~\\anaconda3\\lib\\site-packages\\nidaqmx\\_task_modules\\ai_channel_collection.py\u001b[0m in \u001b[0;36madd_ai_voltage_chan\u001b[1;34m(self, physical_channel, name_to_assign_to_channel, terminal_config, min_val, max_val, units, custom_scale_name)\u001b[0m\n\u001b[0;32m   2561\u001b[0m             \u001b[0mterminal_config\u001b[0m\u001b[1;33m.\u001b[0m\u001b[0mvalue\u001b[0m\u001b[1;33m,\u001b[0m \u001b[0mmin_val\u001b[0m\u001b[1;33m,\u001b[0m \u001b[0mmax_val\u001b[0m\u001b[1;33m,\u001b[0m \u001b[0munits\u001b[0m\u001b[1;33m.\u001b[0m\u001b[0mvalue\u001b[0m\u001b[1;33m,\u001b[0m\u001b[1;33m\u001b[0m\u001b[1;33m\u001b[0m\u001b[0m\n\u001b[0;32m   2562\u001b[0m             custom_scale_name)\n\u001b[1;32m-> 2563\u001b[1;33m         \u001b[0mcheck_for_error\u001b[0m\u001b[1;33m(\u001b[0m\u001b[0merror_code\u001b[0m\u001b[1;33m)\u001b[0m\u001b[1;33m\u001b[0m\u001b[1;33m\u001b[0m\u001b[0m\n\u001b[0m\u001b[0;32m   2564\u001b[0m \u001b[1;33m\u001b[0m\u001b[0m\n\u001b[0;32m   2565\u001b[0m         \u001b[1;32mreturn\u001b[0m \u001b[0mself\u001b[0m\u001b[1;33m.\u001b[0m\u001b[0m_create_chan\u001b[0m\u001b[1;33m(\u001b[0m\u001b[0mphysical_channel\u001b[0m\u001b[1;33m,\u001b[0m \u001b[0mname_to_assign_to_channel\u001b[0m\u001b[1;33m)\u001b[0m\u001b[1;33m\u001b[0m\u001b[1;33m\u001b[0m\u001b[0m\n",
      "\u001b[1;32m~\\anaconda3\\lib\\site-packages\\nidaqmx\\errors.py\u001b[0m in \u001b[0;36mcheck_for_error\u001b[1;34m(error_code)\u001b[0m\n\u001b[0;32m    125\u001b[0m         \u001b[0mcfunc\u001b[0m\u001b[1;33m(\u001b[0m\u001b[0merror_buffer\u001b[0m\u001b[1;33m,\u001b[0m \u001b[1;36m2048\u001b[0m\u001b[1;33m)\u001b[0m\u001b[1;33m\u001b[0m\u001b[1;33m\u001b[0m\u001b[0m\n\u001b[0;32m    126\u001b[0m \u001b[1;33m\u001b[0m\u001b[0m\n\u001b[1;32m--> 127\u001b[1;33m         \u001b[1;32mraise\u001b[0m \u001b[0mDaqError\u001b[0m\u001b[1;33m(\u001b[0m\u001b[0merror_buffer\u001b[0m\u001b[1;33m.\u001b[0m\u001b[0mvalue\u001b[0m\u001b[1;33m.\u001b[0m\u001b[0mdecode\u001b[0m\u001b[1;33m(\u001b[0m\u001b[1;34m\"utf-8\"\u001b[0m\u001b[1;33m)\u001b[0m\u001b[1;33m,\u001b[0m \u001b[0merror_code\u001b[0m\u001b[1;33m)\u001b[0m\u001b[1;33m\u001b[0m\u001b[1;33m\u001b[0m\u001b[0m\n\u001b[0m\u001b[0;32m    128\u001b[0m \u001b[1;33m\u001b[0m\u001b[0m\n\u001b[0;32m    129\u001b[0m     \u001b[1;32melif\u001b[0m \u001b[0merror_code\u001b[0m \u001b[1;33m>\u001b[0m \u001b[1;36m0\u001b[0m\u001b[1;33m:\u001b[0m\u001b[1;33m\u001b[0m\u001b[1;33m\u001b[0m\u001b[0m\n",
      "\u001b[1;31mDaqError\u001b[0m: Task cannot contain a channel with the specified channel type, because the task already contains channels with a different channel type.\nCreate one task for each channel type.\nVirtual Channel Name: Dev1/ao0\nI/O Type Required for Virtual Channel: DAQmx_Val_AO\nPhysical Channel Name: Dev1/ai0\nI/O Type Required for Virtual Channel: DAQmx_Val_AI\n\nTask Name: _unnamedTask<1>\n\nStatus Code: -200559"
     ]
    }
   ],
   "source": [
    "#次は入出力の部分の設定を行う\n",
    "#入力用のタスクと出力用のタスクが同時に行えるか検証→できなかった場合にはマルチスレッド処理が必要\n",
    "# まずは読み込みと出力を同タスクでできるか→入力と出力のタイミングの確認\n",
    "# 流れ→書き込み→スタート→読み込みで試してみる\n",
    "task=nidaqmx.Task()\n",
    "#出力用チャンネルの生成\n",
    "task.ao_channels.add_ao_voltage_chan('Dev1/ao0')\n",
    "#入力用チャンネルの生成\n",
    "task.ai_channels.add_ai_voltage_chan('Dev1/ai0')\n",
    "#サンプリングレートの設定\n",
    "task.timing.cfg_samp_clk_timing(rate=samplerate,samps_per_chan=samplerate*(total_duration))\n",
    "#波形の書き込み\n",
    "#バッファ上に波形を書き込む際に書き込み用のクラスをtaskのout_streamと結び付けてあげることが重要\n",
    "analog_writer= stream_writers.AnalogSingleChannelWriter(task.out_stream)\n",
    "#analog_writerを使用して書き込みを行う\n",
    "task.timing.cfg_samp_clk_timing(rate=samplerate,samps_per_chan=samplerate*(total_duration))\n",
    "#writeする際にバッファサイズが足りないというエラーが出た→バッファサイズ指定の関数が必要なのかな？→単に前のtaskが残っていただけ\n",
    "analog_writer.write_many_sample(write_array)\n",
    "task.start()\n",
    "# 読み込みを開始する\n",
    "data=task.read(number_of_samples_per_channel=samplerate*total_duration)\n",
    "#すぐに止めると電圧値が変な値で止まるため待機させる\n",
    "task.wait_until_done()\n",
    "#taskの終了\n",
    "task.stop()\n",
    "task.close()\n"
   ]
  },
  {
   "cell_type": "code",
   "execution_count": 1,
   "metadata": {},
   "outputs": [],
   "source": [
    "import threading\n",
    "import time\n",
    "from multiprocessing.pool import ThreadPool"
   ]
  },
  {
   "cell_type": "code",
   "execution_count": null,
   "metadata": {},
   "outputs": [],
   "source": [
    "\"\"\"\n",
    "Task cannot contain a channel with the specified channel type, because the task already contains channels with a different channel type.\n",
    "上の表記→どうやら同一タスクには読み込みと書き込みどちらかしか無理そう\n",
    "→マルチスレッド化の処理を行う必要がある\n",
    "\"\"\"\n",
    "\n",
    "sleeptime = 0.6\n",
    "#Dev1の初期化これ意外と大事\n",
    "device=nidaqmx.system.device.Device(\"Dev1\")\n",
    "device.reset_device()\n",
    "#複数処理用のコード（並列処理を行う)\n",
    "pool = ThreadPool(processes=1)\n",
    "result = pool.apply_async(input)\n",
    "time.sleep(sleeptime) #大事な処理\n",
    "worker = threading.Thread(target=output, args=())\n",
    "worker.start()\n",
    "\n",
    "worker.join()\n",
    "record  = result.get()\n"
   ]
  },
  {
   "cell_type": "code",
   "execution_count": 27,
   "metadata": {},
   "outputs": [],
   "source": [
    "freq=2000\n",
    "voltage=2\n",
    "total_duration=2\n",
    "duration=0.03 #[s]\n",
    "samplerate=100000\n",
    "wave=np.zeros(samplerate*total_duration)\n",
    "trigger=np.zeros(samplerate*total_duration)\n",
    "wave[0:int(samplerate*duration)]=voltage*np.sin(2*np.pi*freq*np.arange(0,duration,1/(samplerate)))\n",
    "trigger[0:int(0.01*samplerate)]=3.5*np.ones(int(0.01*samplerate))\n",
    "write_array=np.array([wave,trigger])"
   ]
  },
  {
   "cell_type": "code",
   "execution_count": 32,
   "metadata": {},
   "outputs": [
    {
     "name": "stdout",
     "output_type": "stream",
     "text": [
      "<class 'numpy.ndarray'>\n"
     ]
    }
   ],
   "source": [
    "print(type(write_array))"
   ]
  },
  {
   "cell_type": "code",
   "execution_count": 40,
   "metadata": {},
   "outputs": [],
   "source": [
    "# リソースが確保できない→エラーが起きた状態のままになってしまうのが原因そうなので初期化するのが一番よさそう\n",
    "device=nidaqmx.system.device.Device(\"Dev1\")\n",
    "device.reset_device()"
   ]
  },
  {
   "cell_type": "code",
   "execution_count": 41,
   "metadata": {},
   "outputs": [
    {
     "name": "stdout",
     "output_type": "stream",
     "text": [
      "['Dev1/ao0', 'Dev1/ao1']\n"
     ]
    }
   ],
   "source": [
    "#波形の書き込みができた\n",
    "task=nidaqmx.Task()\n",
    "#出力用チャンネルの生成\n",
    "task.ao_channels.add_ao_voltage_chan('Dev1/ao0:1')\n",
    "#task.timing.cfg_samp_clk_timing(rate=samplerate,samps_per_chan=samplerate*total_duration)\n",
    "#バッファ上に波形を書き込む際に書き込み用のクラスをtaskのout_streamと結び付けてあげることが重要\n",
    "analog_writer= stream_writers.AnalogMultiChannelWriter(task.out_stream)\n",
    "#analog_writerを使用して書き込みを行う\n",
    "task.timing.cfg_samp_clk_timing(rate=samplerate,samps_per_chan=samplerate*(total_duration))\n",
    "print(task.channel_names)\n",
    "#writeする際にバッファサイズが足りないというエラーが出た→バッファサイズ指定の関数が必要なのかな？→単に前のtaskが残っていただけ\n",
    "analog_writer.write_many_sample(write_array)\n",
    "task.start()\n",
    "#すぐに止めると電圧値が変な値で止まるため待機させる\n",
    "task.wait_until_done()\n",
    "task.stop()\n",
    "#多チャンネルからの波形同時出力〇"
   ]
  },
  {
   "cell_type": "code",
   "execution_count": 39,
   "metadata": {},
   "outputs": [],
   "source": [
    "task.close()"
   ]
  },
  {
   "cell_type": "code",
   "execution_count": 7,
   "metadata": {},
   "outputs": [],
   "source": [
    "def input(samplerate=100000,total_duration=2):\n",
    "    try:\n",
    "        task=nidaqmx.Task()\n",
    "        task.ai_channels.add_ai_voltage_chan('Dev1/ai0:1')\n",
    "        task.timing.cfg_samp_clk_timing(rate=samplerate,samps_per_chan=samplerate*(total_duration))\n",
    "        data=task.read(number_of_samples_per_channel=samplerate*total_duration)\n",
    "        print(len(data))\n",
    "        task.wait_until_done()\n",
    "    finally:\n",
    "        if task:\n",
    "            task.stop()\n",
    "            task.close()\n",
    "    if data:\n",
    "        return data\n",
    "    else:\n",
    "        return False\n"
   ]
  },
  {
   "cell_type": "code",
   "execution_count": 8,
   "metadata": {},
   "outputs": [],
   "source": [
    "def make_waveform(samplerate=100000,voltage=2,total_duration=2,duration=0.03,freq=2000):\n",
    "    wave=np.zeros(samplerate*total_duration)\n",
    "    trigger=np.zeros(samplerate*total_duration)\n",
    "    wave[0:int(samplerate*duration)]=voltage*np.sin(2*np.pi*freq*np.arange(0,duration,1/(samplerate)))\n",
    "    trigger[0:int(0.01*samplerate)]=3.5*np.ones(int(0.01*samplerate))\n",
    "    write_array=np.array([wave,trigger])\n",
    "    return write_array"
   ]
  },
  {
   "cell_type": "code",
   "execution_count": 9,
   "metadata": {},
   "outputs": [],
   "source": [
    "def output(samplerate=100000,total_duration=2):\n",
    "    write_array=make_waveform()\n",
    "    #波形の書き込みができた\n",
    "    task=nidaqmx.Task()\n",
    "    #出力用チャンネルの生成\n",
    "    task.ao_channels.add_ao_voltage_chan('Dev1/ao0:1')\n",
    "    #task.timing.cfg_samp_clk_timing(rate=samplerate,samps_per_chan=samplerate*total_duration)\n",
    "    #バッファ上に波形を書き込む際に書き込み用のクラスをtaskのout_streamと結び付けてあげることが重要\n",
    "    analog_writer= stream_writers.AnalogMultiChannelWriter(task.out_stream)\n",
    "    #analog_writerを使用して書き込みを行う\n",
    "    task.timing.cfg_samp_clk_timing(rate=samplerate,samps_per_chan=samplerate*(total_duration))\n",
    "    print(task.channel_names)\n",
    "    #writeする際にバッファサイズが足りないというエラーが出た→バッファサイズ指定の関数が必要なのかな？→単に前のtaskが残っていただけ\n",
    "    analog_writer.write_many_sample(write_array)\n",
    "    task.start()\n",
    "    #すぐに止めると電圧値が変な値で止まるため待機させる\n",
    "    task.wait_until_done()\n",
    "    task.stop()"
   ]
  },
  {
   "cell_type": "code",
   "execution_count": 10,
   "metadata": {},
   "outputs": [
    {
     "name": "stdout",
     "output_type": "stream",
     "text": [
      "['Dev1/ao0', 'Dev1/ao1']\n",
      "2\n"
     ]
    }
   ],
   "source": [
    "#読み書き用の関数ができたので並列化してみる\n",
    "#sleeptimeを入れるとずれていそう\n",
    "#sleeptime = 0.6\n",
    "#Dev1の初期化これ意外と大事\n",
    "device=nidaqmx.system.device.Device(\"Dev1\")\n",
    "device.reset_device()\n",
    "#複数処理用のコード（並列処理を行う)\n",
    "pool = ThreadPool(processes=1)\n",
    "result = pool.apply_async(input)\n",
    "#time.sleep(sleeptime) #大事な処理\n",
    "worker = threading.Thread(target=output, args=())\n",
    "worker.start()\n",
    "\n",
    "worker.join()\n",
    "record  = result.get()\n",
    "pool.close()"
   ]
  },
  {
   "cell_type": "code",
   "execution_count": 57,
   "metadata": {},
   "outputs": [
    {
     "name": "stdout",
     "output_type": "stream",
     "text": [
      "2\n"
     ]
    }
   ],
   "source": [
    "print(len(record))\n",
    "pool.close()"
   ]
  },
  {
   "cell_type": "code",
   "execution_count": 13,
   "metadata": {},
   "outputs": [
    {
     "data": {
      "image/png": "[encoded data removed]",
      "text/plain": [
       "<Figure size 432x288 with 1 Axes>"
      ]
     },
     "metadata": {
      "needs_background": "light"
     },
     "output_type": "display_data"
    }
   ],
   "source": [
    "#triggerとsignalが計測できた\n",
    "#出力した波形をそのまま計測\n",
    "#電圧値も設定とほぼ同じ値だった\n",
    "#PFIOなどを使ってトリガー同期させないと900/100000=0.009秒のずれが発生(9ms)\n",
    "#刺激の生成までのラグだからそれでもよさそう？\n",
    "#長内さんのプログラムだとPFIOを使って同期させてそうだから試してみる？\n",
    "plt.plot(record[0][500:1500])\n",
    "plt.plot(record[1][500:5000])\n",
    "plt.savefig(\"input_and_output_at_the_sametime.png\")\n",
    "plt.show()"
   ]
  },
  {
   "cell_type": "code",
   "execution_count": 49,
   "metadata": {},
   "outputs": [],
   "source": [
    "task.close()"
   ]
  },
  {
   "cell_type": "code",
   "execution_count": 64,
   "metadata": {},
   "outputs": [],
   "source": [
    "from nidaqmx.task import *"
   ]
  },
  {
   "cell_type": "code",
   "execution_count": 68,
   "metadata": {},
   "outputs": [],
   "source": []
  },
  {
   "cell_type": "code",
   "execution_count": 73,
   "metadata": {},
   "outputs": [
    {
     "ename": "DaqError",
     "evalue": "Task specified is invalid or does not exist.\nStatus Code: -200088",
     "output_type": "error",
     "traceback": [
      "\u001b[1;31m---------------------------------------------------------------------------\u001b[0m",
      "\u001b[1;31mDaqError\u001b[0m                                  Traceback (most recent call last)",
      "\u001b[1;32m<ipython-input-73-91fd875a64ad>\u001b[0m in \u001b[0;36m<module>\u001b[1;34m\u001b[0m\n\u001b[1;32m----> 1\u001b[1;33m \u001b[0mreference_trigger\u001b[0m\u001b[1;33m=\u001b[0m\u001b[0mtrigger\u001b[0m\u001b[1;33m.\u001b[0m\u001b[0mreference_trigger\u001b[0m\u001b[1;33m.\u001b[0m\u001b[0mcfg_dig_edge_ref_trig\u001b[0m\u001b[1;33m(\u001b[0m\u001b[1;34m'Dev1/PFI0'\u001b[0m\u001b[1;33m,\u001b[0m\u001b[1;36m100\u001b[0m\u001b[1;33m)\u001b[0m\u001b[1;33m\u001b[0m\u001b[1;33m\u001b[0m\u001b[0m\n\u001b[0m",
      "\u001b[1;32m~\\anaconda3\\lib\\site-packages\\nidaqmx\\_task_modules\\triggering\\reference_trigger.py\u001b[0m in \u001b[0;36mcfg_dig_edge_ref_trig\u001b[1;34m(self, trigger_source, pretrigger_samples, trigger_edge)\u001b[0m\n\u001b[0;32m   1993\u001b[0m             \u001b[0mself\u001b[0m\u001b[1;33m.\u001b[0m\u001b[0m_handle\u001b[0m\u001b[1;33m,\u001b[0m \u001b[0mtrigger_source\u001b[0m\u001b[1;33m,\u001b[0m \u001b[0mtrigger_edge\u001b[0m\u001b[1;33m.\u001b[0m\u001b[0mvalue\u001b[0m\u001b[1;33m,\u001b[0m\u001b[1;33m\u001b[0m\u001b[1;33m\u001b[0m\u001b[0m\n\u001b[0;32m   1994\u001b[0m             pretrigger_samples)\n\u001b[1;32m-> 1995\u001b[1;33m         \u001b[0mcheck_for_error\u001b[0m\u001b[1;33m(\u001b[0m\u001b[0merror_code\u001b[0m\u001b[1;33m)\u001b[0m\u001b[1;33m\u001b[0m\u001b[1;33m\u001b[0m\u001b[0m\n\u001b[0m\u001b[0;32m   1996\u001b[0m \u001b[1;33m\u001b[0m\u001b[0m\n\u001b[0;32m   1997\u001b[0m     def cfg_dig_pattern_ref_trig(\n",
      "\u001b[1;32m~\\anaconda3\\lib\\site-packages\\nidaqmx\\errors.py\u001b[0m in \u001b[0;36mcheck_for_error\u001b[1;34m(error_code)\u001b[0m\n\u001b[0;32m    125\u001b[0m         \u001b[0mcfunc\u001b[0m\u001b[1;33m(\u001b[0m\u001b[0merror_buffer\u001b[0m\u001b[1;33m,\u001b[0m \u001b[1;36m2048\u001b[0m\u001b[1;33m)\u001b[0m\u001b[1;33m\u001b[0m\u001b[1;33m\u001b[0m\u001b[0m\n\u001b[0;32m    126\u001b[0m \u001b[1;33m\u001b[0m\u001b[0m\n\u001b[1;32m--> 127\u001b[1;33m         \u001b[1;32mraise\u001b[0m \u001b[0mDaqError\u001b[0m\u001b[1;33m(\u001b[0m\u001b[0merror_buffer\u001b[0m\u001b[1;33m.\u001b[0m\u001b[0mvalue\u001b[0m\u001b[1;33m.\u001b[0m\u001b[0mdecode\u001b[0m\u001b[1;33m(\u001b[0m\u001b[1;34m\"utf-8\"\u001b[0m\u001b[1;33m)\u001b[0m\u001b[1;33m,\u001b[0m \u001b[0merror_code\u001b[0m\u001b[1;33m)\u001b[0m\u001b[1;33m\u001b[0m\u001b[1;33m\u001b[0m\u001b[0m\n\u001b[0m\u001b[0;32m    128\u001b[0m \u001b[1;33m\u001b[0m\u001b[0m\n\u001b[0;32m    129\u001b[0m     \u001b[1;32melif\u001b[0m \u001b[0merror_code\u001b[0m \u001b[1;33m>\u001b[0m \u001b[1;36m0\u001b[0m\u001b[1;33m:\u001b[0m\u001b[1;33m\u001b[0m\u001b[1;33m\u001b[0m\u001b[0m\n",
      "\u001b[1;31mDaqError\u001b[0m: Task specified is invalid or does not exist.\nStatus Code: -200088"
     ]
    }
   ],
   "source": [
    "trigger=task.triggers\n",
    "reference_trigger=trigger.reference_trigger.cfg_dig_edge_ref_trig('Dev1/PFI0',100)"
   ]
  },
  {
   "cell_type": "code",
   "execution_count": 75,
   "metadata": {},
   "outputs": [],
   "source": [
    "#外部トリガーを設定して取得時間を調整できる？\n",
    "def input_b(samplerate=100000,total_duration=2):\n",
    "    try:\n",
    "        task=nidaqmx.Task()\n",
    "        task.ai_channels.add_ai_voltage_chan('Dev1/ai0:1')\n",
    "        task.timing.cfg_samp_clk_timing(rate=samplerate,samps_per_chan=samplerate*(total_duration))\n",
    "        trigger=task.triggers\n",
    "        reference_trigger=trigger.reference_trigger.cfg_dig_edge_ref_trig('Dev1/PFI0',100)\n",
    "        data=task.read(number_of_samples_per_channel=samplerate*total_duration)\n",
    "        print(len(data))\n",
    "        task.wait_until_done()\n",
    "    finally:\n",
    "        if task:\n",
    "            task.stop()\n",
    "            task.close()\n",
    "    if data:\n",
    "        return data\n",
    "    else:\n",
    "        return False\n"
   ]
  },
  {
   "cell_type": "code",
   "execution_count": 24,
   "metadata": {},
   "outputs": [],
   "source": [
    "samplerate=10000\n",
    "total_duration=2\n",
    "write_array=np.ones(int(samplerate*total_duration))"
   ]
  },
  {
   "cell_type": "code",
   "execution_count": 25,
   "metadata": {},
   "outputs": [],
   "source": [
    "# リソースが確保できない→エラーが起きた状態のままになってしまうのが原因そうなので初期化するのが一番よさそう\n",
    "device=nidaqmx.system.device.Device(\"Dev1\")\n",
    "device.reset_device()"
   ]
  },
  {
   "cell_type": "code",
   "execution_count": 23,
   "metadata": {},
   "outputs": [],
   "source": [
    "#波形の書き込みができた\n",
    "task=nidaqmx.Task()\n",
    "#出力用チャンネルの生成\n",
    "task.ao_channels.add_ao_voltage_chan('Dev1/ao3')\n",
    "#task.timing.cfg_samp_clk_timing(rate=samplerate,samps_per_chan=samplerate*total_duration)\n",
    "#バッファ上に波形を書き込む際に書き込み用のクラスをtaskのout_streamと結び付けてあげることが重要\n",
    "analog_writer= stream_writers.AnalogSingleChannelWriter(task.out_stream)\n",
    "#analog_writerを使用して書き込みを行う\n",
    "task.timing.cfg_samp_clk_timing(rate=samplerate,samps_per_chan=int(samplerate*(total_duration)))\n",
    "#writeする際にバッファサイズが足りないというエラーが出た→バッファサイズ指定の関数が必要なのかな？→単に前のtaskが残っていただけ\n",
    "analog_writer.write_many_sample(write_array)\n",
    "task.start()\n",
    "#すぐに止めると電圧値が変な値で止まるため待機させる\n",
    "task.wait_until_done()\n",
    "task.stop()"
   ]
  },
  {
   "cell_type": "code",
   "execution_count": null,
   "metadata": {},
   "outputs": [],
   "source": []
  }
 ],
 "metadata": {
  "kernelspec": {
   "display_name": "Python 3",
   "language": "python",
   "name": "python3"
  },
  "language_info": {
   "codemirror_mode": {
    "name": "ipython",
    "version": 3
   },
   "file_extension": ".py",
   "mimetype": "text/x-python",
   "name": "python",
   "nbconvert_exporter": "python",
   "pygments_lexer": "ipython3",
   "version": "3.7.4"
  }
 },
 "nbformat": 4,
 "nbformat_minor": 5
}
