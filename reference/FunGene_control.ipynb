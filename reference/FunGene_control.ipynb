{
 "cells": [
  {
   "cell_type": "markdown",
   "metadata": {},
   "source": [
    "# 刺激系をコントロールするためのプログラム\n",
    "# Function generatorとDAQをコントロールすることが目的\n",
    "\n",
    "### Fungene\n",
    "- Keysight visaというライブラリが必要\n",
    "- pythonでコントロールするためには[PyVISA](https://pyvisa.readthedocs.io/en/latest/)を使用する\n",
    "    - visa用コードは下から\n",
    "    https://nfcorp.co.jp/support/manual/pdf/WF1947_48_RemoteControl_InstructionManual003_Jpn.pdf\n",
    "    - 基本的には?で問い合わせ(取得)そのままで指定(入力・設定)\n",
    "    - これだけ入れて無理な場合にはpyusbをpipでインストールする\n",
    "    \n",
    "### DAQ\n",
    "- PyDAQmxというライブラリを使用\n",
    "    - https://pythonhosted.org/PyDAQmx/\n",
    "    - https://zone.ni.com/reference/en-XX/help/370471AM-01/cdaqmx/help_file_title/\n",
    "    - https://github.com/clade/PyDAQmx\n",
    "- NIDAQmxドライバが必要\n"
   ]
  },
  {
   "cell_type": "markdown",
   "metadata": {},
   "source": [
    "### Fungeneの刺激生成はPythonでやったことがないため試してみる"
   ]
  },
  {
   "cell_type": "code",
   "execution_count": 1,
   "metadata": {},
   "outputs": [],
   "source": [
    "## ライブラリの読み込み\n",
    "import pyvisa as visa\n",
    "import sys"
   ]
  },
  {
   "cell_type": "code",
   "execution_count": 12,
   "metadata": {},
   "outputs": [],
   "source": [
    "resource_manager= visa.ResourceManager()"
   ]
  },
  {
   "cell_type": "code",
   "execution_count": 13,
   "metadata": {},
   "outputs": [
    {
     "name": "stdout",
     "output_type": "stream",
     "text": [
      "('USB0::0x0D4A::0x000D::9201982::INSTR', 'ASRL1::INSTR', 'ASRL3::INSTR', 'PXI0::8-4.0::INSTR')\n"
     ]
    }
   ],
   "source": [
    "devise_list= resource_manager.list_resources()\n",
    "print(devise_list)"
   ]
  },
  {
   "cell_type": "code",
   "execution_count": 14,
   "metadata": {},
   "outputs": [],
   "source": [
    "#接続されたすべてのVISA機器リストを出力\n",
    "def get_devices():\n",
    "    devise_list= list(resource_manager.list_resources())\n",
    "    return devise_list"
   ]
  },
  {
   "cell_type": "code",
   "execution_count": 19,
   "metadata": {},
   "outputs": [],
   "source": [
    "#resource_managerから特定機器を取得\n",
    "def open_device(address):\n",
    "    return resource_manager.open_resource(address)"
   ]
  },
  {
   "cell_type": "code",
   "execution_count": 20,
   "metadata": {},
   "outputs": [],
   "source": [
    "# 機器情報を取得\n",
    "def identification(device):\n",
    "    return device.query(\"*IDN?\")"
   ]
  },
  {
   "cell_type": "code",
   "execution_count": 21,
   "metadata": {},
   "outputs": [
    {
     "name": "stdout",
     "output_type": "stream",
     "text": [
      "['USB0::0x0D4A::0x000D::9201982::INSTR', 'ASRL1::INSTR', 'ASRL3::INSTR', 'PXI0::8-4.0::INSTR']\n"
     ]
    }
   ],
   "source": [
    "#接続機器リストを取得\n",
    "device_list=get_devices()\n",
    "print(get_devices())"
   ]
  },
  {
   "cell_type": "code",
   "execution_count": 24,
   "metadata": {},
   "outputs": [
    {
     "name": "stdout",
     "output_type": "stream",
     "text": [
      "NF Corporation,WF1947,9201982,Ver1.40\n",
      "\n"
     ]
    }
   ],
   "source": [
    "#ファンクションジェネレータのデータを取得\n",
    "fungene_device = open_device(device_list[0])\n",
    "#取得したdeviceの機器情報を取得\n",
    "print(identification(fungene_device))"
   ]
  },
  {
   "cell_type": "code",
   "execution_count": 52,
   "metadata": {},
   "outputs": [
    {
     "data": {
      "text/plain": [
       "37"
      ]
     },
     "execution_count": 52,
     "metadata": {},
     "output_type": "execute_result"
    }
   ],
   "source": [
    "#取得したdevice(ファンクションジェネレーターに対して刺激設定を出力できるようにする)\n",
    "## 刺激モード・刺激パラメータの設定\n",
    "fungene_device.write(\":SOURce1:MODE CONT\")\n",
    "fungene_device.write(\":SOURce1:FUNCtion:SHAPe SIN\")\n",
    "fungene_device.write(\":SOURce1:FREQuency:CW 1000HZ\")\n",
    "fungene_device.write(\":SOURce1:VOLTage:LEVel:IMMediate:AMPLitude 1VPP\")\n",
    "fungene_device.write(\":SOURce1:BURSt:TRIGger:NCYCles 1000\")\n",
    "#fungene_device.write(\":SOURce1:VOLTage:LEVel:IMMediate:OFFSet 0.0V\")\n",
    "#fungene_device.write(\":OUTPut1:POLarity SINusoid, NORMal\")\n",
    "\n",
    "\n"
   ]
  },
  {
   "cell_type": "code",
   "execution_count": 57,
   "metadata": {},
   "outputs": [
    {
     "data": {
      "text/plain": [
       "17"
      ]
     },
     "execution_count": 57,
     "metadata": {},
     "output_type": "execute_result"
    }
   ],
   "source": [
    "#outputをonに設定\n",
    "fungene_device.write(\":OUTPut:STATe 1\")"
   ]
  },
  {
   "cell_type": "code",
   "execution_count": 58,
   "metadata": {},
   "outputs": [
    {
     "data": {
      "text/plain": [
       "9"
      ]
     },
     "execution_count": 58,
     "metadata": {},
     "output_type": "execute_result"
    }
   ],
   "source": [
    "#triggerをon→波形生成\n",
    "fungene_device.write(\":TRIG 1\")"
   ]
  },
  {
   "cell_type": "markdown",
   "metadata": {},
   "source": [
    "fungene_device.write(\":OUTPut:STATe 0\")"
   ]
  },
  {
   "cell_type": "markdown",
   "metadata": {},
   "source": [
    "- 波形生成ができた\n",
    "- modu,humではDAQからの電圧値を外部振幅変調機能として使用している"
   ]
  },
  {
   "cell_type": "markdown",
   "metadata": {},
   "source": [
    "### 次はDAQと連動させて動かすことを考える\n",
    "1. DAQにAnalogOut, AnalogINのチャネルを生成\n",
    "2. 超音波波形情報をFGに格納\n",
    "3. DAQからtrigger電圧を印加させて超音波波形を生成\n",
    "4. AEセンサからの電圧を連続配列としてDAQに入力して格納"
   ]
  },
  {
   "cell_type": "code",
   "execution_count": 2,
   "metadata": {},
   "outputs": [],
   "source": [
    "# DAQ制御用に必要なライブラリの読み込み\n",
    "from __future__ import print_function\n",
    "from ctypes import *\n",
    "from PyDAQmx import *\n",
    "import numpy\n",
    "from matplotlib import pyplot as plt\n",
    "\n",
    "# メモリ解放用のライブラリ\n",
    "import gc"
   ]
  },
  {
   "cell_type": "markdown",
   "metadata": {},
   "source": [
    "### DAQはTaskというオブジェクトを使用して管理するが、Taskは一つしか起動できないらしい\n",
    "→　そのため1つのTask内で入出力チャンネルの生成→計測を行ってみる"
   ]
  },
  {
   "cell_type": "code",
   "execution_count": 4,
   "metadata": {},
   "outputs": [],
   "source": [
    "#音刺激用の波形生成\n",
    "def table(**kwargs):\n",
    "    keys = list(kwargs.keys())\n",
    "    values = numpy.array(numpy.meshgrid(*tuple(kwargs.values()))).transpose()\n",
    "    \n",
    "    return pandas.DataFrame(values.reshape(numpy.prod(values.shape[:-1]), values.shape[-1]), columns=keys)\n",
    "#まずは音刺激のデータをそのまま電圧値として入力するところから\n",
    "def toneburst(sampling_rate, frequency, db, rise_fall, duration):\n",
    "    ###frequency:各周波数, amplitude:Max電圧 [V], rise_fall:立ち上がり/下り時間 [s], duration: 音刺激の長さ [s] \n",
    "    fade = int(rise_fall*sampling_rate)\n",
    "    #amplitude = calib_pure[(calib_pure.frequency == frequency)&(calib_pure.db == db)].amplitude.values\n",
    "    amplitude=1.0\n",
    "    wave = amplitude*numpy.sin(numpy.linspace(0, numpy.pi*2*frequency*duration, int(duration*sampling_rate)))\n",
    "    wave[:fade] *= numpy.linspace(0, 1, fade)\n",
    "    wave[-fade:] *= numpy.linspace(1, 0, fade)\n",
    "\n",
    "    trigger = numpy.zeros(int(sampling_rate*duration)) \n",
    "    trigger[0 : int(sampling_rate/10000)] = 5\n",
    "    \n",
    "    return numpy.array([wave, trigger])"
   ]
  },
  {
   "cell_type": "code",
   "execution_count": null,
   "metadata": {},
   "outputs": [],
   "source": [
    "# InputOutput用のDAQチャンネルの生成\n",
    "task = Task()\n",
    "read = int32()\n",
    "input_data = numpy.zeros((10000,), dtype=numpy.float64)\n",
    "\n",
    "try:\n",
    "    # DAQmx Configure Code\n",
    "    #analog_input.CreateAIVoltageChan(\"デバイス名/チャンネル\",\"\",DAQmx_Val_Cfg_Default,-10.0,10.0,DAQmx_Val_Volts,None)\n",
    "    task.CreateAIVoltageChan(\"Dev2/ai0\",\"\",DAQmx_Val_Cfg_Default,-10.0,10.0,DAQmx_Val_Volts,None)\n",
    "    #analog_input.CfgSampClkTiming(\"\",サンプリングレート,DAQmx_Val_Rising,DAQmx_Val_FiniteSamps,サンプル数)\n",
    "    task.CfgSampClkTiming(\"\",20000.0,DAQmx_Val_Rising,DAQmx_Val_FiniteSamps,40000)\n",
    "\n",
    "    #DAQmx Write Code for sending signal\n",
    "    task.CreateAOVoltageChan(\"Dev2/ao0\", \"\", -10.0, 10.0, DAQmx_Val_Volts, None)\n",
    "    task.CreateAOVoltageChan(\"Dev2/ao1\", \"\", -10.0, 10.0, DAQmx_Val_Volts, None)\n",
    "\n",
    "    # task.DAQmx Write Code\n",
    "    #task.WriteAnalogF64(chごとのサンプル数, 0, 10.0, DAQmx_Val_GroupByChannel, 書き込むデータ, None, None)\n",
    "    task.WriteAnalogF64(data.size//2, 0, 10.0, DAQmx_Val_GroupByChannel, data, None, None)\n",
    "\n",
    "    # DAQmx Start Code\n",
    "    analog_input.StartTask()\n",
    "\n",
    "    # DAQmx Read Code\n",
    "    analog_input.ReadAnalogF64(40000,10.0,DAQmx_Val_GroupByChannel,input_data,40000,byref(read),None)\n",
    "\n",
    "except DAQError as err:\n",
    "    print(\"DAQmx Error: {}\".format(err))\n",
    "\n",
    "finally:\n",
    "    if task:\n",
    "        # task.DAQmx Stop Code\n",
    "        task.StopTask()\n",
    "        task.ClearTask()\n",
    "#print(\"Acquired %d points\"%read.value)\n",
    "assert read.value==40000\n",
    "#print(data)\n",
    "\n"
   ]
  }
 ],
 "metadata": {
  "kernelspec": {
   "display_name": "Python 3",
   "language": "python",
   "name": "python3"
  },
  "language_info": {
   "codemirror_mode": {
    "name": "ipython",
    "version": 3
   },
   "file_extension": ".py",
   "mimetype": "text/x-python",
   "name": "python",
   "nbconvert_exporter": "python",
   "pygments_lexer": "ipython3",
   "version": "3.7.6"
  }
 },
 "nbformat": 4,
 "nbformat_minor": 4
}
